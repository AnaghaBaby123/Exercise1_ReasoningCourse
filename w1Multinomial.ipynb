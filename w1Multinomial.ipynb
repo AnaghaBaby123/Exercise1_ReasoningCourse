{
 "cells": [
  {
   "cell_type": "code",
   "execution_count": 1,
   "id": "379526b8-af8b-4b0a-84b5-b9fc3e679693",
   "metadata": {},
   "outputs": [
    {
     "name": "stdout",
     "output_type": "stream",
     "text": [
      "Requirement already satisfied: matplotlib in c:\\users\\anagh\\appdata\\local\\programs\\python\\python312\\lib\\site-packages (3.8.3)\n",
      "Requirement already satisfied: contourpy>=1.0.1 in c:\\users\\anagh\\appdata\\local\\programs\\python\\python312\\lib\\site-packages (from matplotlib) (1.2.0)\n",
      "Requirement already satisfied: cycler>=0.10 in c:\\users\\anagh\\appdata\\local\\programs\\python\\python312\\lib\\site-packages (from matplotlib) (0.12.1)\n",
      "Requirement already satisfied: fonttools>=4.22.0 in c:\\users\\anagh\\appdata\\local\\programs\\python\\python312\\lib\\site-packages (from matplotlib) (4.50.0)\n",
      "Requirement already satisfied: kiwisolver>=1.3.1 in c:\\users\\anagh\\appdata\\local\\programs\\python\\python312\\lib\\site-packages (from matplotlib) (1.4.5)\n",
      "Requirement already satisfied: numpy<2,>=1.21 in c:\\users\\anagh\\appdata\\local\\programs\\python\\python312\\lib\\site-packages (from matplotlib) (1.26.4)\n",
      "Requirement already satisfied: packaging>=20.0 in c:\\users\\anagh\\appdata\\local\\programs\\python\\python312\\lib\\site-packages (from matplotlib) (24.0)\n",
      "Requirement already satisfied: pillow>=8 in c:\\users\\anagh\\appdata\\local\\programs\\python\\python312\\lib\\site-packages (from matplotlib) (10.2.0)\n",
      "Requirement already satisfied: pyparsing>=2.3.1 in c:\\users\\anagh\\appdata\\local\\programs\\python\\python312\\lib\\site-packages (from matplotlib) (3.1.2)\n",
      "Requirement already satisfied: python-dateutil>=2.7 in c:\\users\\anagh\\appdata\\local\\programs\\python\\python312\\lib\\site-packages (from matplotlib) (2.9.0.post0)\n",
      "Requirement already satisfied: six>=1.5 in c:\\users\\anagh\\appdata\\local\\programs\\python\\python312\\lib\\site-packages (from python-dateutil>=2.7->matplotlib) (1.16.0)\n"
     ]
    }
   ],
   "source": [
    "!pip install matplotlib"
   ]
  },
  {
   "cell_type": "code",
   "execution_count": 2,
   "id": "a9c35350-6acb-4086-a4cc-743688bfdf5a",
   "metadata": {},
   "outputs": [],
   "source": [
    "import pandas as pd\n",
    "import numpy as np\n",
    "from collections import Counter"
   ]
  },
  {
   "cell_type": "code",
   "execution_count": 3,
   "id": "4ef83c5f-7413-4572-b223-f2d2cf1d0ed4",
   "metadata": {},
   "outputs": [],
   "source": [
    "df = pd.read_csv('anthrokids.csv')"
   ]
  },
  {
   "cell_type": "code",
   "execution_count": 4,
   "id": "36eed3e2-a573-4e13-9768-d36889f560a7",
   "metadata": {},
   "outputs": [
    {
     "data": {
      "text/html": [
       "<div>\n",
       "<style scoped>\n",
       "    .dataframe tbody tr th:only-of-type {\n",
       "        vertical-align: middle;\n",
       "    }\n",
       "\n",
       "    .dataframe tbody tr th {\n",
       "        vertical-align: top;\n",
       "    }\n",
       "\n",
       "    .dataframe thead th {\n",
       "        text-align: right;\n",
       "    }\n",
       "</style>\n",
       "<table border=\"1\" class=\"dataframe\">\n",
       "  <thead>\n",
       "    <tr style=\"text-align: right;\">\n",
       "      <th></th>\n",
       "      <th>id</th>\n",
       "      <th>mass</th>\n",
       "      <th>height</th>\n",
       "      <th>waist</th>\n",
       "      <th>foot</th>\n",
       "      <th>sittingHeight</th>\n",
       "      <th>upperLegLength</th>\n",
       "      <th>kneeHeight</th>\n",
       "      <th>forearmLength</th>\n",
       "      <th>age</th>\n",
       "      <th>gender</th>\n",
       "      <th>handedness</th>\n",
       "      <th>birthOrder</th>\n",
       "    </tr>\n",
       "  </thead>\n",
       "  <tbody>\n",
       "    <tr>\n",
       "      <th>0</th>\n",
       "      <td>1</td>\n",
       "      <td>15.5</td>\n",
       "      <td>103.3</td>\n",
       "      <td>47.5</td>\n",
       "      <td>16.3</td>\n",
       "      <td>582.0</td>\n",
       "      <td>306.0</td>\n",
       "      <td>NaN</td>\n",
       "      <td>259.0</td>\n",
       "      <td>4.219</td>\n",
       "      <td>F</td>\n",
       "      <td>right</td>\n",
       "      <td>1.0</td>\n",
       "    </tr>\n",
       "    <tr>\n",
       "      <th>1</th>\n",
       "      <td>2</td>\n",
       "      <td>17.6</td>\n",
       "      <td>103.9</td>\n",
       "      <td>49.8</td>\n",
       "      <td>16.3</td>\n",
       "      <td>606.0</td>\n",
       "      <td>311.0</td>\n",
       "      <td>NaN</td>\n",
       "      <td>274.0</td>\n",
       "      <td>4.326</td>\n",
       "      <td>M</td>\n",
       "      <td>right</td>\n",
       "      <td>1.0</td>\n",
       "    </tr>\n",
       "    <tr>\n",
       "      <th>2</th>\n",
       "      <td>3</td>\n",
       "      <td>23.0</td>\n",
       "      <td>111.2</td>\n",
       "      <td>52.0</td>\n",
       "      <td>17.1</td>\n",
       "      <td>594.0</td>\n",
       "      <td>387.0</td>\n",
       "      <td>NaN</td>\n",
       "      <td>304.0</td>\n",
       "      <td>4.476</td>\n",
       "      <td>F</td>\n",
       "      <td>right</td>\n",
       "      <td>1.0</td>\n",
       "    </tr>\n",
       "    <tr>\n",
       "      <th>3</th>\n",
       "      <td>4</td>\n",
       "      <td>16.5</td>\n",
       "      <td>99.7</td>\n",
       "      <td>49.1</td>\n",
       "      <td>16.3</td>\n",
       "      <td>542.0</td>\n",
       "      <td>312.0</td>\n",
       "      <td>NaN</td>\n",
       "      <td>281.0</td>\n",
       "      <td>3.841</td>\n",
       "      <td>F</td>\n",
       "      <td>both</td>\n",
       "      <td>1.0</td>\n",
       "    </tr>\n",
       "    <tr>\n",
       "      <th>4</th>\n",
       "      <td>5</td>\n",
       "      <td>15.0</td>\n",
       "      <td>99.7</td>\n",
       "      <td>46.5</td>\n",
       "      <td>16.7</td>\n",
       "      <td>524.0</td>\n",
       "      <td>321.0</td>\n",
       "      <td>NaN</td>\n",
       "      <td>269.0</td>\n",
       "      <td>3.460</td>\n",
       "      <td>F</td>\n",
       "      <td>both</td>\n",
       "      <td>1.0</td>\n",
       "    </tr>\n",
       "    <tr>\n",
       "      <th>...</th>\n",
       "      <td>...</td>\n",
       "      <td>...</td>\n",
       "      <td>...</td>\n",
       "      <td>...</td>\n",
       "      <td>...</td>\n",
       "      <td>...</td>\n",
       "      <td>...</td>\n",
       "      <td>...</td>\n",
       "      <td>...</td>\n",
       "      <td>...</td>\n",
       "      <td>...</td>\n",
       "      <td>...</td>\n",
       "      <td>...</td>\n",
       "    </tr>\n",
       "    <tr>\n",
       "      <th>3895</th>\n",
       "      <td>91096</td>\n",
       "      <td>16.0</td>\n",
       "      <td>103.6</td>\n",
       "      <td>48.7</td>\n",
       "      <td>16.5</td>\n",
       "      <td>597.0</td>\n",
       "      <td>307.0</td>\n",
       "      <td>307.0</td>\n",
       "      <td>269.0</td>\n",
       "      <td>3.403</td>\n",
       "      <td>M</td>\n",
       "      <td>both</td>\n",
       "      <td>2.0</td>\n",
       "    </tr>\n",
       "    <tr>\n",
       "      <th>3896</th>\n",
       "      <td>91097</td>\n",
       "      <td>14.3</td>\n",
       "      <td>99.9</td>\n",
       "      <td>46.0</td>\n",
       "      <td>15.1</td>\n",
       "      <td>582.0</td>\n",
       "      <td>291.0</td>\n",
       "      <td>275.0</td>\n",
       "      <td>253.0</td>\n",
       "      <td>3.397</td>\n",
       "      <td>M</td>\n",
       "      <td>left</td>\n",
       "      <td>4.0</td>\n",
       "    </tr>\n",
       "    <tr>\n",
       "      <th>3897</th>\n",
       "      <td>91099</td>\n",
       "      <td>12.4</td>\n",
       "      <td>90.5</td>\n",
       "      <td>47.6</td>\n",
       "      <td>14.1</td>\n",
       "      <td>537.0</td>\n",
       "      <td>289.0</td>\n",
       "      <td>254.0</td>\n",
       "      <td>224.0</td>\n",
       "      <td>2.442</td>\n",
       "      <td>F</td>\n",
       "      <td>right</td>\n",
       "      <td>1.0</td>\n",
       "    </tr>\n",
       "    <tr>\n",
       "      <th>3898</th>\n",
       "      <td>91100</td>\n",
       "      <td>18.4</td>\n",
       "      <td>100.7</td>\n",
       "      <td>55.1</td>\n",
       "      <td>16.1</td>\n",
       "      <td>570.0</td>\n",
       "      <td>320.0</td>\n",
       "      <td>303.0</td>\n",
       "      <td>273.0</td>\n",
       "      <td>4.188</td>\n",
       "      <td>M</td>\n",
       "      <td>right</td>\n",
       "      <td>1.0</td>\n",
       "    </tr>\n",
       "    <tr>\n",
       "      <th>3899</th>\n",
       "      <td>91095</td>\n",
       "      <td>25.5</td>\n",
       "      <td>124.4</td>\n",
       "      <td>57.0</td>\n",
       "      <td>19.9</td>\n",
       "      <td>703.0</td>\n",
       "      <td>383.0</td>\n",
       "      <td>378.0</td>\n",
       "      <td>322.0</td>\n",
       "      <td>4.974</td>\n",
       "      <td>M</td>\n",
       "      <td>left</td>\n",
       "      <td>1.0</td>\n",
       "    </tr>\n",
       "  </tbody>\n",
       "</table>\n",
       "<p>3900 rows × 13 columns</p>\n",
       "</div>"
      ],
      "text/plain": [
       "         id  mass  height  waist  foot  sittingHeight  upperLegLength  \\\n",
       "0         1  15.5   103.3   47.5  16.3          582.0           306.0   \n",
       "1         2  17.6   103.9   49.8  16.3          606.0           311.0   \n",
       "2         3  23.0   111.2   52.0  17.1          594.0           387.0   \n",
       "3         4  16.5    99.7   49.1  16.3          542.0           312.0   \n",
       "4         5  15.0    99.7   46.5  16.7          524.0           321.0   \n",
       "...     ...   ...     ...    ...   ...            ...             ...   \n",
       "3895  91096  16.0   103.6   48.7  16.5          597.0           307.0   \n",
       "3896  91097  14.3    99.9   46.0  15.1          582.0           291.0   \n",
       "3897  91099  12.4    90.5   47.6  14.1          537.0           289.0   \n",
       "3898  91100  18.4   100.7   55.1  16.1          570.0           320.0   \n",
       "3899  91095  25.5   124.4   57.0  19.9          703.0           383.0   \n",
       "\n",
       "      kneeHeight  forearmLength    age gender handedness  birthOrder  \n",
       "0            NaN          259.0  4.219      F      right         1.0  \n",
       "1            NaN          274.0  4.326      M      right         1.0  \n",
       "2            NaN          304.0  4.476      F      right         1.0  \n",
       "3            NaN          281.0  3.841      F       both         1.0  \n",
       "4            NaN          269.0  3.460      F       both         1.0  \n",
       "...          ...            ...    ...    ...        ...         ...  \n",
       "3895       307.0          269.0  3.403      M       both         2.0  \n",
       "3896       275.0          253.0  3.397      M       left         4.0  \n",
       "3897       254.0          224.0  2.442      F      right         1.0  \n",
       "3898       303.0          273.0  4.188      M      right         1.0  \n",
       "3899       378.0          322.0  4.974      M       left         1.0  \n",
       "\n",
       "[3900 rows x 13 columns]"
      ]
     },
     "execution_count": 4,
     "metadata": {},
     "output_type": "execute_result"
    }
   ],
   "source": [
    "df"
   ]
  },
  {
   "cell_type": "code",
   "execution_count": 5,
   "id": "ee8211f5-afde-41b8-8458-d9e962674630",
   "metadata": {},
   "outputs": [
    {
     "name": "stdout",
     "output_type": "stream",
     "text": [
      "0       4.219\n",
      "1       4.326\n",
      "2       4.476\n",
      "3       3.841\n",
      "4       3.460\n",
      "        ...  \n",
      "3895    3.403\n",
      "3896    3.397\n",
      "3897    2.442\n",
      "3898    4.188\n",
      "3899    4.974\n",
      "Name: age, Length: 3900, dtype: float64\n"
     ]
    }
   ],
   "source": [
    "print(df.age)"
   ]
  },
  {
   "cell_type": "code",
   "execution_count": 6,
   "id": "2c29fec4-536f-4693-8bf3-8bdda6cea4db",
   "metadata": {},
   "outputs": [],
   "source": [
    "#function to round integer values\n",
    "\n",
    "\n",
    "def rounding(age):\n",
    "    vals = str(age).split('.')\n",
    "    if (int(vals[1][0])>=5):\n",
    "        vals[0] = int(vals[0])+1\n",
    "    else:\n",
    "        pass\n",
    "    return(int(vals[0]))     "
   ]
  },
  {
   "cell_type": "code",
   "execution_count": 7,
   "id": "4335bb5d-0dbc-45f8-a323-2056861583c6",
   "metadata": {},
   "outputs": [],
   "source": [
    "df1=  df[df['age'].isnull()]"
   ]
  },
  {
   "cell_type": "code",
   "execution_count": 8,
   "id": "43fe848c-a10b-48f4-a7c2-2771a09e277a",
   "metadata": {},
   "outputs": [
    {
     "data": {
      "text/html": [
       "<div>\n",
       "<style scoped>\n",
       "    .dataframe tbody tr th:only-of-type {\n",
       "        vertical-align: middle;\n",
       "    }\n",
       "\n",
       "    .dataframe tbody tr th {\n",
       "        vertical-align: top;\n",
       "    }\n",
       "\n",
       "    .dataframe thead th {\n",
       "        text-align: right;\n",
       "    }\n",
       "</style>\n",
       "<table border=\"1\" class=\"dataframe\">\n",
       "  <thead>\n",
       "    <tr style=\"text-align: right;\">\n",
       "      <th></th>\n",
       "      <th>id</th>\n",
       "      <th>mass</th>\n",
       "      <th>height</th>\n",
       "      <th>waist</th>\n",
       "      <th>foot</th>\n",
       "      <th>sittingHeight</th>\n",
       "      <th>upperLegLength</th>\n",
       "      <th>kneeHeight</th>\n",
       "      <th>forearmLength</th>\n",
       "      <th>age</th>\n",
       "      <th>gender</th>\n",
       "      <th>handedness</th>\n",
       "      <th>birthOrder</th>\n",
       "    </tr>\n",
       "  </thead>\n",
       "  <tbody>\n",
       "    <tr>\n",
       "      <th>1029</th>\n",
       "      <td>15034</td>\n",
       "      <td>44.8</td>\n",
       "      <td>154.7</td>\n",
       "      <td>60.3</td>\n",
       "      <td>21.4</td>\n",
       "      <td>838.0</td>\n",
       "      <td>519.0</td>\n",
       "      <td>468.0</td>\n",
       "      <td>402.0</td>\n",
       "      <td>NaN</td>\n",
       "      <td>M</td>\n",
       "      <td>NaN</td>\n",
       "      <td>NaN</td>\n",
       "    </tr>\n",
       "    <tr>\n",
       "      <th>1402</th>\n",
       "      <td>22023</td>\n",
       "      <td>15.0</td>\n",
       "      <td>94.4</td>\n",
       "      <td>51.1</td>\n",
       "      <td>15.2</td>\n",
       "      <td>563.0</td>\n",
       "      <td>285.0</td>\n",
       "      <td>271.0</td>\n",
       "      <td>253.0</td>\n",
       "      <td>NaN</td>\n",
       "      <td>M</td>\n",
       "      <td>NaN</td>\n",
       "      <td>NaN</td>\n",
       "    </tr>\n",
       "  </tbody>\n",
       "</table>\n",
       "</div>"
      ],
      "text/plain": [
       "         id  mass  height  waist  foot  sittingHeight  upperLegLength  \\\n",
       "1029  15034  44.8   154.7   60.3  21.4          838.0           519.0   \n",
       "1402  22023  15.0    94.4   51.1  15.2          563.0           285.0   \n",
       "\n",
       "      kneeHeight  forearmLength  age gender handedness  birthOrder  \n",
       "1029       468.0          402.0  NaN      M        NaN         NaN  \n",
       "1402       271.0          253.0  NaN      M        NaN         NaN  "
      ]
     },
     "execution_count": 8,
     "metadata": {},
     "output_type": "execute_result"
    }
   ],
   "source": [
    "df1.head()"
   ]
  },
  {
   "cell_type": "code",
   "execution_count": 9,
   "id": "da791495-f799-4442-8937-1e0072ebd7da",
   "metadata": {},
   "outputs": [],
   "source": [
    "df.dropna(subset=['age'],inplace = True)   # remove null values from the original data frame."
   ]
  },
  {
   "cell_type": "code",
   "execution_count": 10,
   "id": "febd5400-d941-41ee-9199-e0f3de3d9daa",
   "metadata": {},
   "outputs": [
    {
     "name": "stdout",
     "output_type": "stream",
     "text": [
      "[4, 4, 4, 4, 3, 4, 3, 4, 6, 5, 5, 14, 14, 14, 13, 13, 13, 13, 12, 14, 13, 13, 12, 13, 13, 12, 14, 14, 12, 12, 14, 12, 13, 13, 14, 13, 14, 14, 14, 14, 13, 14, 13, 14, 14, 13, 14, 14, 13, 12, 12, 13, 10, 10, 6, 7, 12, 6, 5, 9, 9, 10, 7, 7, 11, 9, 8, 7, 8, 9, 8, 8, 7, 12, 5, 7, 7, 5, 8, 9, 9, 8, 11, 10, 10, 11, 12, 11, 11, 10, 10, 11, 13, 11, 12, 11, 11, 12, 12, 12, 10, 9, 10, 10, 11, 10, 10, 11, 11, 12, 12, 5, 16, 17, 17, 18, 18, 17, 19, 17, 17, 17, 19, 18, 16, 15, 15, 17, 17, 15, 14, 15, 16, 17, 17, 16, 16, 16, 18, 18, 16, 16, 17, 18, 16, 16, 15, 15, 17, 16, 16, 20, 15, 17, 15, 14, 15, 16, 15, 19, 16, 17, 16, 17, 14, 16, 18, 16, 17, 18, 15, 5, 4, 5, 4, 3, 4, 4, 4, 6, 8, 9, 8, 8, 6, 7, 6, 8, 8, 9, 7, 7, 7, 6, 6, 8, 6, 6, 6, 7, 7, 9, 8, 7, 7, 10, 8, 8, 8, 8, 7, 6, 8, 8, 9, 7, 6, 6, 7, 8, 9, 7, 9, 6, 7, 7, 6, 5, 6, 7, 6, 4, 5, 5, 5, 4, 3, 3, 3, 4, 6, 5, 4, 6, 3, 4, 4, 5, 4, 4, 5, 5, 5, 4, 4, 5, 4, 4, 3, 3, 4, 4, 5, 5, 5, 4, 3, 5, 5, 8, 8, 12, 18, 17, 13, 14, 14, 16, 18, 13, 7, 5, 5, 14, 15, 14, 14, 12, 4, 6, 13, 7, 8, 10, 10, 11, 11, 12, 11, 9, 10, 6, 8, 6, 6, 12, 12, 7, 6, 9, 9, 6, 5, 9, 5, 7, 13, 11, 2, 6, 3, 10, 8, 5, 14, 14, 10, 12, 2, 5, 10, 10, 10, 8, 8, 8, 11, 11, 10, 11, 11, 9, 9, 9, 6, 6, 7, 6, 7, 6, 5, 7, 7, 9, 9, 10, 11, 11, 9, 7, 9, 8, 8, 9, 9, 9, 9, 9, 8, 12, 11, 6, 6, 6, 7, 7, 7, 8, 11, 11, 10, 10, 7, 7, 10, 10, 9, 10, 5, 6, 8, 8, 12, 13, 7, 6, 9, 11, 12, 12, 11, 13, 9, 7, 6, 5, 14, 14, 13, 10, 7, 10, 14, 13, 13, 13, 11, 11, 13, 14, 13, 13, 12, 13, 11, 11, 12, 13, 12, 8, 8, 9, 10, 11, 9, 10, 10, 10, 12, 7, 7, 12, 13, 13, 11, 11, 10, 12, 9, 9, 7, 7, 11, 11, 11, 11, 6, 6, 12, 12, 10, 11, 6, 5, 7, 6, 6, 9, 10, 5, 6, 10, 11, 11, 8, 8, 12, 6, 5, 5, 5, 5, 6, 6, 6, 8, 4, 6, 5, 5, 4, 8, 8, 9, 10, 12, 7, 8, 7, 10, 12, 12, 11, 12, 6, 7, 8, 11, 11, 12, 11, 12, 12, 11, 14, 14, 14, 15, 14, 14, 14, 14, 13, 13, 13, 13, 13, 14, 13, 14, 14, 14, 14, 12, 11, 12, 12, 12, 7, 6, 10, 10, 12, 5, 11, 8, 8, 11, 6, 6, 8, 7, 8, 9, 9, 9, 11, 11, 12, 11, 10, 11, 10, 5, 6, 7, 7, 11, 11, 11, 6, 10, 11, 9, 8, 10, 11, 10, 11, 9, 11, 10, 11, 10, 7, 12, 12, 6, 5, 6, 7, 10, 11, 7, 7, 9, 10, 11, 12, 6, 10, 9, 10, 10, 10, 10, 11, 10, 9, 9, 9, 7, 8, 8, 8, 9, 10, 9, 10, 10, 9, 10, 11, 10, 10, 3, 6, 6, 5, 4, 2, 3, 3, 5, 2, 4, 4, 4, 2, 3, 2, 3, 4, 4, 4, 5, 4, 4, 2, 2, 2, 4, 4, 3, 4, 3, 4, 3, 2, 3, 2, 3, 2, 13, 13, 14, 14, 13, 14, 13, 14, 13, 13, 12, 15, 13, 14, 15, 14, 13, 13, 14, 13, 13, 13, 13, 14, 14, 14, 14, 14, 15, 14, 14, 14, 14, 14, 5, 4, 4, 5, 5, 4, 2, 4, 4, 3, 6, 6, 3, 2, 2, 3, 3, 3, 4, 3, 3, 3, 6, 5, 18, 18, 18, 18, 16, 17, 17, 15, 18, 17, 18, 17, 15, 15, 16, 16, 15, 14, 16, 15, 16, 14, 15, 15, 18, 16, 15, 14, 16, 17, 15, 15, 15, 16, 18, 18, 17, 17, 17, 16, 18, 19, 17, 16, 15, 15, 18, 17, 15, 14, 14, 14, 14, 14, 13, 12, 14, 15, 14, 13, 12, 13, 12, 12, 14, 13, 13, 14, 12, 13, 13, 7, 7, 7, 7, 7, 7, 8, 8, 6, 6, 7, 8, 7, 8, 12, 12, 12, 11, 9, 9, 9, 9, 9, 9, 9, 9, 11, 10, 11, 10, 10, 10, 6, 7, 15, 16, 15, 17, 14, 15, 15, 16, 9, 8, 8, 11, 11, 11, 7, 9, 7, 7, 7, 7, 17, 15, 15, 17, 18, 15, 15, 15, 15, 14, 16, 15, 14, 15, 15, 16, 15, 15, 15, 15, 17, 14, 15, 18, 16, 18, 12, 11, 16, 19, 18, 18, 17, 18, 18, 16, 17, 16, 16, 19, 18, 18, 17, 17, 17, 17, 18, 17, 17, 18, 17, 18, 18, 17, 19, 19, 18, 17, 9, 11, 11, 7, 9, 12, 11, 12, 9, 8, 18, 9, 9, 10, 9, 9, 10, 17, 16, 16, 17, 17, 16, 16, 18, 17, 15, 16, 18, 18, 17, 16, 15, 15, 16, 15, 17, 15, 17, 16, 16, 15, 17, 16, 15, 16, 15, 15, 15, 16, 16, 17, 17, 19, 17, 17, 16, 15, 15, 15, 15, 15, 16, 15, 17, 16, 16, 16, 16, 14, 14, 13, 12, 12, 13, 13, 13, 12, 13, 14, 12, 13, 14, 13, 14, 13, 12, 15, 14, 12, 12, 13, 13, 10, 12, 12, 12, 11, 10, 9, 12, 10, 10, 11, 10, 10, 11, 18, 19, 18, 18, 7, 7, 16, 11, 13, 8, 7, 16, 17, 16, 18, 17, 16, 9, 9, 10, 11, 16, 16, 15, 13, 15, 12, 13, 14, 13, 12, 12, 16, 13, 12, 14, 13, 13, 13, 14, 6, 6, 7, 6, 6, 8, 8, 8, 8, 8, 8, 9, 7, 7, 7, 9, 9, 10, 13, 15, 13, 13, 13, 15, 14, 16, 13, 12, 12, 13, 13, 14, 13, 13, 13, 14, 15, 14, 14, 14, 13, 13, 15, 15, 14, 14, 14, 15, 15, 15, 15, 14, 14, 13, 13, 15, 13, 14, 14, 14, 13, 15, 14, 14, 15, 15, 15, 13, 13, 13, 13, 13, 13, 13, 14, 13, 15, 15, 15, 17, 15, 15, 13, 14, 14, 14, 14, 14, 14, 15, 14, 14, 14, 15, 15, 13, 10, 10, 10, 11, 10, 11, 10, 10, 8, 6, 6, 7, 10, 11, 11, 11, 12, 8, 10, 9, 12, 11, 11, 11, 12, 11, 7, 6, 9, 9, 8, 8, 8, 6, 7, 9, 9, 9, 10, 11, 10, 11, 10, 7, 6, 8, 9, 8, 9, 7, 7, 7, 9, 9, 10, 10, 10, 7, 7, 7, 7, 9, 6, 6, 6, 9, 9, 9, 9, 9, 7, 8, 7, 8, 7, 7, 9, 9, 7, 6, 8, 8, 11, 12, 13, 6, 7, 7, 15, 15, 17, 15, 15, 15, 15, 18, 10, 10, 10, 18, 8, 8, 9, 9, 9, 11, 11, 10, 12, 9, 11, 11, 8, 14, 12, 12, 14, 13, 13, 13, 13, 13, 13, 14, 12, 13, 12, 12, 13, 14, 14, 13, 13, 12, 14, 12, 14, 14, 15, 15, 11, 13, 14, 16, 18, 17, 17, 18, 17, 16, 17, 18, 19, 18, 9, 8, 7, 6, 11, 11, 11, 11, 11, 12, 13, 14, 13, 12, 12, 12, 13, 13, 13, 13, 13, 15, 14, 14, 12, 12, 14, 13, 12, 12, 12, 13, 12, 14, 12, 14, 14, 12, 12, 13, 13, 13, 14, 15, 13, 15, 13, 13, 14, 13, 12, 12, 14, 13, 7, 7, 7, 8, 8, 7, 8, 9, 9, 9, 9, 9, 9, 9, 10, 10, 10, 10, 7, 12, 11, 6, 6, 10, 15, 15, 15, 14, 14, 13, 14, 15, 15, 15, 15, 15, 14, 13, 15, 14, 5, 5, 5, 5, 5, 5, 4, 4, 4, 3, 4, 6, 4, 6, 5, 5, 3, 4, 4, 3, 6, 6, 6, 5, 5, 4, 4, 4, 3, 4, 3, 6, 5, 4, 5, 6, 5, 5, 5, 4, 5, 2, 3, 7, 7, 6, 9, 5, 5, 4, 4, 4, 5, 6, 5, 12, 12, 11, 11, 11, 11, 11, 11, 11, 6, 6, 12, 7, 10, 10, 9, 11, 9, 9, 11, 11, 11, 11, 11, 11, 9, 7, 9, 6, 6, 7, 7, 7, 9, 9, 8, 6, 6, 6, 9, 9, 11, 11, 11, 10, 10, 10, 10, 10, 10, 8, 9, 8, 7, 7, 7, 8, 11, 8, 4, 4, 5, 5, 7, 9, 6, 7, 2, 3, 3, 4, 4, 4, 4, 3, 2, 5, 6, 5, 6, 4, 4, 5, 4, 3, 3, 13, 14, 14, 15, 13, 14, 17, 17, 16, 14, 11, 15, 16, 17, 17, 18, 16, 15, 15, 16, 12, 15, 15, 16, 14, 15, 15, 12, 15, 13, 12, 12, 12, 13, 13, 11, 15, 16, 18, 12, 12, 13, 11, 12, 7, 12, 13, 11, 14, 13, 12, 13, 13, 13, 13, 12, 12, 13, 13, 13, 13, 13, 13, 15, 14, 14, 14, 14, 14, 14, 14, 14, 14, 14, 14, 14, 15, 13, 13, 13, 14, 14, 14, 14, 15, 14, 13, 13, 13, 13, 14, 14, 14, 13, 13, 13, 14, 14, 13, 15, 16, 14, 14, 15, 14, 13, 13, 13, 14, 13, 14, 14, 14, 14, 14, 13, 13, 13, 13, 13, 14, 13, 13, 16, 15, 13, 11, 12, 11, 12, 11, 12, 12, 16, 12, 12, 17, 13, 13, 11, 10, 10, 10, 10, 9, 8, 11, 11, 11, 12, 11, 11, 11, 11, 11, 10, 8, 5, 7, 11, 11, 12, 13, 14, 11, 13, 15, 12, 12, 11, 7, 11, 13, 12, 17, 13, 13, 16, 15, 16, 17, 17, 15, 16, 16, 17, 16, 17, 16, 17, 6, 9, 4, 3, 5, 4, 5, 3, 7, 6, 3, 5, 5, 3, 6, 4, 5, 5, 3, 3, 2, 5, 5, 4, 4, 4, 5, 6, 4, 5, 4, 6, 5, 2, 3, 2, 3, 3, 5, 5, 3, 3, 2, 5, 3, 4, 5, 5, 5, 3, 5, 6, 4, 6, 6, 8, 5, 5, 4, 4, 4, 4, 5, 5, 2, 2, 6, 5, 4, 3, 4, 3, 4, 3, 5, 8, 5, 4, 6, 6, 5, 4, 5, 5, 5, 8, 6, 6, 6, 4, 16, 15, 15, 15, 15, 16, 14, 13, 15, 12, 14, 11, 14, 8, 9, 11, 12, 12, 12, 13, 14, 14, 14, 11, 12, 11, 12, 12, 13, 13, 16, 14, 14, 16, 11, 10, 13, 12, 18, 17, 15, 14, 6, 6, 5, 5, 6, 3, 7, 6, 5, 6, 12, 16, 16, 18, 16, 5, 11, 16, 6, 14, 14, 13, 14, 10, 10, 10, 10, 11, 12, 15, 11, 9, 8, 15, 15, 15, 3, 5, 12, 12, 13, 12, 11, 11, 17, 17, 9, 9, 10, 8, 9, 3, 2, 16, 17, 14, 17, 15, 15, 17, 12, 12, 13, 12, 17, 16, 17, 18, 17, 16, 16, 17, 17, 17, 12, 12, 13, 13, 12, 12, 17, 17, 17, 18, 17, 16, 17, 16, 15, 15, 16, 12, 12, 12, 13, 15, 16, 15, 14, 15, 14, 14, 14, 14, 17, 14, 14, 13, 14, 14, 13, 13, 13, 9, 12, 11, 11, 12, 11, 12, 12, 11, 14, 10, 9, 12, 12, 12, 11, 12, 11, 10, 12, 11, 9, 11, 11, 12, 11, 9, 10, 11, 10, 10, 10, 10, 10, 10, 12, 10, 11, 16, 15, 15, 16, 16, 18, 17, 17, 17, 17, 16, 17, 17, 18, 17, 16, 16, 17, 17, 17, 16, 17, 18, 17, 16, 17, 18, 18, 18, 18, 18, 18, 18, 18, 16, 17, 17, 18, 18, 16, 18, 17, 16, 15, 18, 17, 16, 18, 17, 17, 16, 16, 15, 16, 15, 18, 16, 17, 17, 16, 16, 16, 16, 16, 16, 16, 17, 16, 17, 16, 16, 16, 16, 16, 16, 17, 16, 15, 14, 15, 15, 13, 13, 15, 12, 17, 17, 17, 16, 17, 17, 13, 12, 12, 12, 12, 11, 13, 11, 12, 12, 10, 9, 12, 10, 10, 10, 10, 11, 12, 10, 11, 13, 9, 10, 9, 10, 9, 10, 15, 15, 15, 13, 14, 9, 10, 9, 10, 13, 14, 11, 12, 12, 12, 12, 12, 12, 11, 10, 8, 9, 8, 12, 12, 11, 11, 13, 12, 12, 17, 17, 10, 15, 11, 11, 12, 9, 12, 10, 10, 12, 12, 12, 9, 10, 11, 11, 13, 13, 13, 13, 9, 11, 13, 11, 10, 11, 12, 12, 12, 13, 13, 9, 9, 10, 17, 16, 16, 17, 16, 16, 17, 17, 17, 18, 15, 15, 15, 14, 18, 18, 17, 15, 15, 16, 18, 14, 13, 13, 13, 11, 11, 11, 12, 10, 10, 9, 10, 9, 8, 11, 12, 11, 12, 11, 11, 12, 11, 11, 8, 9, 9, 9, 9, 10, 9, 9, 8, 9, 9, 5, 5, 7, 7, 7, 8, 7, 6, 6, 6, 6, 7, 7, 8, 7, 7, 6, 5, 7, 7, 12, 8, 9, 6, 6, 9, 8, 15, 13, 15, 14, 13, 13, 13, 12, 14, 13, 12, 15, 15, 15, 14, 15, 15, 15, 15, 14, 13, 13, 13, 13, 13, 13, 14, 14, 15, 14, 15, 15, 17, 14, 15, 15, 15, 15, 16, 16, 15, 15, 16, 15, 15, 15, 16, 16, 16, 18, 18, 17, 17, 17, 18, 17, 17, 17, 18, 18, 18, 18, 18, 18, 17, 17, 18, 15, 15, 19, 18, 10, 11, 9, 9, 9, 10, 9, 9, 10, 9, 8, 7, 6, 7, 8, 10, 7, 6, 6, 6, 5, 7, 6, 6, 6, 6, 8, 6, 6, 7, 8, 8, 7, 7, 7, 8, 7, 6, 9, 9, 12, 11, 12, 9, 12, 6, 10, 9, 7, 7, 8, 8, 8, 8, 11, 9, 12, 12, 8, 9, 11, 8, 6, 5, 9, 6, 12, 14, 13, 12, 13, 13, 13, 15, 15, 15, 14, 15, 12, 12, 12, 12, 15, 15, 16, 15, 12, 13, 13, 13, 13, 15, 13, 13, 13, 14, 14, 13, 13, 15, 15, 15, 14, 15, 14, 14, 15, 14, 14, 15, 12, 13, 15, 15, 13, 13, 15, 15, 13, 15, 18, 18, 18, 18, 19, 18, 16, 17, 18, 16, 18, 16, 18, 18, 16, 16, 18, 15, 14, 16, 18, 18, 8, 7, 10, 7, 11, 12, 13, 5, 6, 5, 6, 5, 7, 6, 7, 7, 9, 8, 12, 11, 12, 11, 11, 11, 10, 9, 10, 10, 11, 10, 11, 10, 11, 12, 10, 11, 9, 10, 8, 7, 7, 9, 6, 7, 8, 5, 7, 6, 10, 6, 7, 6, 6, 6, 6, 9, 10, 10, 9, 9, 9, 11, 11, 10, 11, 8, 9, 9, 9, 8, 8, 8, 7, 7, 7, 8, 9, 8, 8, 9, 7, 6, 6, 9, 8, 8, 8, 6, 6, 6, 6, 6, 6, 8, 3, 5, 2, 4, 2, 2, 4, 3, 4, 4, 3, 4, 5, 3, 4, 3, 3, 4, 3, 3, 2, 4, 3, 4, 4, 4, 5, 3, 3, 3, 5, 5, 4, 5, 2, 4, 4, 6, 4, 4, 2, 2, 3, 3, 4, 3, 17, 17, 17, 16, 16, 18, 16, 17, 17, 17, 18, 17, 18, 17, 17, 16, 17, 17, 18, 17, 17, 15, 16, 17, 18, 16, 15, 17, 16, 17, 16, 17, 18, 17, 13, 14, 12, 12, 12, 13, 14, 14, 12, 14, 14, 13, 14, 12, 13, 14, 13, 13, 14, 13, 15, 13, 13, 13, 13, 13, 12, 12, 12, 12, 13, 13, 12, 12, 12, 13, 14, 12, 12, 12, 14, 13, 9, 8, 9, 9, 9, 9, 7, 7, 7, 6, 9, 9, 7, 6, 7, 5, 6, 12, 12, 11, 11, 9, 9, 11, 10, 8, 9, 8, 8, 7, 7, 12, 12, 11, 11, 10, 9, 8, 9, 7, 7, 6, 2, 2, 3, 6, 5, 6, 6, 6, 5, 6, 7, 6, 7, 10, 10, 9, 10, 10, 9, 10, 9, 6, 5, 5, 6, 5, 6, 6, 6, 6, 5, 7, 6, 6, 7, 3, 3, 3, 2, 2, 4, 4, 2, 2, 6, 5, 3, 3, 2, 3, 18, 18, 18, 18, 17, 18, 19, 18, 7, 6, 3, 3, 3, 4, 4, 4, 5, 5, 5, 5, 5, 5, 6, 5, 5, 4, 4, 5, 6, 7, 5, 5, 3, 5, 4, 4, 5, 2, 3, 4, 4, 5, 4, 5, 4, 4, 5, 4, 4, 5, 5, 3, 5, 4, 6, 5, 4, 6, 6, 6, 6, 5, 4, 5, 5, 3, 5, 4, 5, 4, 5, 4, 4, 4, 4, 6, 3, 3, 4, 3, 5, 4, 5, 4, 5, 5, 4, 3, 4, 4, 4, 4, 4, 4, 17, 16, 14, 16, 16, 16, 17, 16, 17, 13, 15, 13, 14, 14, 13, 13, 12, 14, 14, 14, 13, 14, 13, 12, 12, 13, 14, 13, 14, 13, 12, 13, 5, 3, 4, 8, 7, 10, 10, 9, 9, 10, 10, 10, 10, 10, 10, 10, 11, 11, 8, 11, 8, 7, 6, 11, 11, 11, 11, 13, 10, 10, 11, 7, 7, 7, 7, 6, 7, 11, 12, 8, 8, 8, 9, 10, 10, 11, 11, 10, 12, 12, 6, 7, 6, 10, 10, 10, 12, 4, 5, 4, 5, 4, 4, 4, 5, 5, 4, 4, 4, 4, 4, 5, 4, 5, 5, 6, 4, 4, 7, 5, 5, 4, 4, 4, 4, 3, 3, 3, 5, 5, 4, 5, 4, 3, 5, 5, 5, 4, 4, 5, 4, 5, 5, 5, 6, 5, 5, 5, 5, 5, 3, 4, 3, 5, 5, 5, 5, 4, 4, 5, 5, 10, 11, 11, 11, 6, 9, 10, 10, 11, 11, 10, 10, 9, 10, 10, 9, 10, 5, 5, 5, 5, 11, 11, 11, 6, 6, 11, 11, 10, 10, 6, 4, 5, 5, 5, 6, 5, 6, 6, 2, 3, 3, 5, 10, 12, 11, 11, 10, 9, 11, 9, 12, 13, 13, 13, 14, 13, 13, 10, 11, 10, 10, 10, 10, 15, 12, 8, 6, 6, 9, 3, 4, 3, 3, 2, 4, 5, 2, 3, 14, 12, 7, 5, 4, 13, 13, 13, 13, 14, 14, 14, 15, 14, 15, 12, 12, 12, 12, 11, 11, 13, 13, 13, 13, 14, 14, 9, 10, 9, 10, 10, 12, 12, 11, 12, 11, 13, 13, 13, 12, 17, 14, 10, 10, 10, 9, 12, 15, 11, 8, 17, 17, 17, 17, 17, 11, 13, 11, 10, 11, 10, 11, 11, 11, 11, 8, 13, 12, 12, 11, 12, 11, 10, 8, 10, 9, 15, 11, 9, 13, 10, 15, 14, 15, 14, 17, 15, 15, 13, 12, 15, 17, 14, 14, 13, 12, 14, 14, 15, 14, 17, 17, 15, 12, 13, 13, 11, 13, 13, 15, 11, 12, 11, 13, 14, 11, 12, 13, 15, 17, 14, 11, 12, 11, 13, 16, 13, 9, 8, 11, 8, 7, 10, 8, 10, 7, 7, 9, 9, 10, 12, 10, 12, 8, 8, 9, 9, 12, 17, 6, 8, 7, 9, 9, 7, 8, 8, 9, 11, 10, 11, 9, 9, 7, 13, 8, 11, 13, 3, 4, 6, 5, 18, 16, 16, 17, 16, 16, 17, 16, 16, 16, 17, 14, 10, 13, 6, 6, 6, 8, 8, 8, 8, 8, 10, 9, 7, 7, 6, 8, 8, 7, 7, 7, 7, 8, 8, 10, 9, 7, 8, 7, 6, 7, 12, 11, 11, 15, 14, 12, 12, 13, 11, 11, 10, 11, 10, 10, 10, 11, 11, 12, 11, 10, 10, 11, 10, 9, 7, 7, 7, 8, 8, 8, 8, 9, 9, 10, 9, 10, 5, 7, 7, 7, 5, 5, 5, 5, 5, 7, 6, 6, 5, 5, 6, 5, 5, 5, 8, 7, 7, 8, 7, 8, 8, 8, 9, 8, 9, 9, 9, 9, 9, 9, 8, 10, 11, 11, 12, 9, 10, 9, 5, 6, 8, 8, 6, 5, 5, 6, 6, 7, 7, 6, 7, 8, 8, 7, 7, 9, 9, 9, 9, 7, 7, 6, 8, 9, 10, 9, 6, 7, 10, 9, 9, 6, 7, 16, 14, 13, 12, 13, 13, 14, 16, 15, 15, 16, 14, 18, 15, 15, 12, 12, 11, 13, 12, 13, 14, 16, 16, 16, 14, 18, 18, 15, 15, 6, 5, 5, 5, 6, 5, 5, 5, 6, 6, 7, 9, 9, 9, 9, 8, 10, 10, 7, 6, 7, 7, 7, 8, 7, 8, 9, 10, 7, 6, 8, 5, 6, 6, 10, 10, 8, 8, 8, 9, 8, 10, 11, 10, 13, 12, 11, 12, 12, 11, 9, 9, 11, 11, 9, 9, 10, 15, 17, 17, 18, 17, 17, 15, 17, 18, 17, 17, 18, 17, 15, 17, 17, 15, 17, 17, 14, 16, 17, 14, 18, 17, 16, 17, 8, 19, 7, 10, 9, 18, 7, 8, 8, 17, 10, 8, 9, 17, 10, 10, 15, 15, 17, 16, 18, 18, 17, 17, 18, 17, 15, 15, 16, 15, 16, 18, 16, 15, 18, 16, 16, 16, 15, 17, 18, 15, 15, 17, 15, 15, 15, 18, 16, 17, 18, 16, 16, 15, 16, 16, 15, 16, 15, 18, 17, 17, 17, 18, 17, 17, 19, 17, 17, 19, 18, 10, 11, 10, 10, 9, 8, 8, 6, 7, 8, 6, 6, 15, 15, 13, 13, 13, 4, 5, 5, 5, 4, 5, 4, 4, 5, 4, 4, 2, 3, 2, 4, 3, 4, 2, 3, 3, 5, 2, 5, 3, 5, 4, 2, 5, 3, 6, 5, 3, 5, 5, 6, 4, 6, 2, 3, 3, 4, 4, 3, 3, 3, 4, 3, 4, 3, 3, 5, 5, 5, 5, 4, 5, 4, 4, 4, 4, 3, 17, 17, 17, 18, 17, 17, 16, 15, 18, 18, 18, 18, 17, 16, 16, 17, 17, 3, 4, 4, 4, 6, 3, 3, 5, 4, 5, 4, 4, 3, 5, 4, 4, 7, 11, 5, 10, 9, 9, 5, 6, 7, 6, 11, 8, 11, 6, 7, 7, 7, 5, 5, 12, 11, 11, 14, 14, 14, 18, 19, 18, 15, 14, 16, 15, 17, 17, 19, 15, 17, 14, 15, 15, 15, 15, 15, 15, 18, 16, 7, 4, 4, 4, 4, 5, 5, 3, 5, 5, 5, 6, 4, 3, 3, 3, 9, 2, 4, 4, 3, 3, 4, 4, 4, 5, 5, 5, 4, 3, 5, 5, 6, 3, 3, 4, 4, 5, 4, 6, 4, 4, 4, 3, 3, 6, 7, 5, 5, 4, 2, 5, 4, 2, 3, 3, 3, 3, 3, 3, 3, 3, 5, 6, 4, 7, 4, 3, 3, 3, 5, 3, 4, 2, 4, 5, 4, 3, 3, 3, 3, 2, 5, 2, 12, 13, 12, 10, 16, 15, 17, 17, 9, 16, 17, 16, 3, 16, 3, 5, 3, 3, 2, 4, 5]\n"
     ]
    }
   ],
   "source": [
    "# integrating the rounding function to the Age column to get rounded age values\n",
    "age_list = []\n",
    "for i in df.age:\n",
    "    if(type(i)!= float): # code to check if it's an integer. if it is, then no need to round it.\n",
    "        age_list.append(i)\n",
    "    else:\n",
    "        age_list.append(rounding(i))\n",
    "\n",
    "print(age_list)\n",
    "  "
   ]
  },
  {
   "cell_type": "code",
   "execution_count": 11,
   "id": "fb6609fb-20c2-4a34-b8fc-8ba2f2d4deb0",
   "metadata": {},
   "outputs": [
    {
     "name": "stdout",
     "output_type": "stream",
     "text": [
      "{2: 56, 3: 157, 4: 228, 5: 271, 6: 245, 7: 231, 8: 198, 9: 257, 10: 258, 11: 282, 12: 287, 13: 315, 14: 271, 15: 264, 16: 198, 17: 221, 18: 139, 19: 19, 20: 1}\n"
     ]
    }
   ],
   "source": [
    "#1 a) to find the frequencies of Age column \n",
    "\n",
    "age_dict ={}\n",
    "for i in age_list:\n",
    "    if i not in age_dict.keys():\n",
    "        age_dict[i] = 1\n",
    "    else:\n",
    "        age_dict[i] = age_dict[i] +1\n",
    "\n",
    "\n",
    "sorted_age_dict = dict(sorted(age_dict.items()))\n",
    "print(sorted_age_dict)\n",
    "                       "
   ]
  },
  {
   "cell_type": "code",
   "execution_count": 12,
   "id": "b56468b7-f8fd-49fc-bf72-7f0a3d660c09",
   "metadata": {},
   "outputs": [
    {
     "data": {
      "image/png": "[encoded data removed]",
      "text/plain": [
       "<Figure size 640x480 with 1 Axes>"
      ]
     },
     "metadata": {},
     "output_type": "display_data"
    }
   ],
   "source": [
    "#plotting using matplotlib\n",
    "\n",
    "\n",
    "import matplotlib.pyplot as plt\n",
    "plt.plot(sorted_age_dict.keys(),sorted_age_dict.values(), color='red')\n",
    "plt.xlabel('Age')\n",
    "plt.ylabel('Number of kids')\n",
    "plt.show()"
   ]
  },
  {
   "cell_type": "code",
   "execution_count": 13,
   "id": "7de1f4d7-6717-413f-ba19-d37483fd94f3",
   "metadata": {},
   "outputs": [
    {
     "name": "stdout",
     "output_type": "stream",
     "text": [
      "Mean: 10.41995895330939\n",
      "Standard deviation: 5.658781301369251\n"
     ]
    }
   ],
   "source": [
    "#Calculating the parameters: Mean and standard deviation\n",
    "import math\n",
    "sums =0\n",
    "for i,j in sorted_age_dict.items():\n",
    "    sums = sums+(i*j)\n",
    "mean = sums/len(age_list)\n",
    "print(\"Mean:\",mean)\n",
    "\n",
    "sd = 0\n",
    "\n",
    "for key in sorted_age_dict.keys():\n",
    "    sd = sd + (key - mean)**2 \n",
    "\n",
    "sd = sd / (len(sorted_age_dict)-1)\n",
    "print(\"Standard deviation:\",math.sqrt(sd))\n",
    "\n"
   ]
  },
  {
   "cell_type": "code",
   "execution_count": 14,
   "id": "cc7fbbab-f231-4213-895d-0c1dce0a4f8c",
   "metadata": {},
   "outputs": [],
   "source": [
    "#Sampling"
   ]
  },
  {
   "cell_type": "code",
   "execution_count": 29,
   "id": "eff3689d-5acf-4cea-8db6-6dbdbc206623",
   "metadata": {},
   "outputs": [],
   "source": [
    "#1 b) Sample from the multinomial distribution\n",
    "\n",
    "\n",
    "r = 23376489\n",
    "a = 4533456\n",
    "b = 124245\n",
    "m = len(age_list)\n",
    "\n",
    "def random():\n",
    "    global r \n",
    "    r =  (a*r*b)%m\n",
    "    return r\n",
    "#print(int(random()))"
   ]
  },
  {
   "cell_type": "code",
   "execution_count": 31,
   "id": "20821a7f-dec2-439f-a096-870fa90e8e4e",
   "metadata": {},
   "outputs": [
    {
     "name": "stdout",
     "output_type": "stream",
     "text": [
      "[5, 4, 7, 7, 9, 18, 6, 16, 14, 18, 8, 17, 8, 3, 18, 4, 9, 15, 12, 13, 19, 14, 12, 14, 13, 17, 9, 16, 2, 12, 14, 12, 9, 5, 8, 12, 19, 9, 4, 12, 17, 15, 8, 17, 12, 10, 7, 11, 9, 19, 14, 5, 10, 7, 2, 5, 10, 14, 11, 9, 7, 5, 3, 3, 5, 12, 8, 15, 12, 12, 10, 11, 14, 4, 6, 11, 9, 6, 15, 5, 7, 3, 11, 18, 5, 15, 5, 11, 13, 18, 6, 17, 16, 14, 17, 6, 13, 10, 8, 12, 15, 18, 18, 4, 11, 2, 9, 17, 5, 11, 12, 11, 13, 5, 5, 11, 13, 16, 13, 16, 17, 13, 18, 14, 14, 15, 13, 12, 15, 4, 4, 6, 9, 10, 5, 5, 6, 17, 17, 7, 5, 13, 14, 9, 7, 8, 6, 7, 11, 16, 7, 12, 5, 4, 6, 15, 11, 8, 17, 10, 12, 8, 6, 15, 8, 13, 13, 18, 12, 5, 13, 13, 17, 9, 10, 18, 8, 15, 14, 10, 4, 12, 12, 3, 12, 8, 18, 15, 8, 13, 13, 10, 15, 15, 15, 9, 3, 17, 9, 12, 7, 17, 4, 3, 6, 7, 8, 12, 18, 7, 4, 4, 6, 6, 17, 3, 10, 2, 13, 13, 17, 9, 12, 16, 4, 12, 2, 14, 15, 7, 10, 9, 16, 5, 9, 6, 16, 3, 16, 4, 6, 11, 15, 15, 14, 10, 7, 15, 14, 2, 5, 8, 4, 11, 10, 11, 14, 11, 9, 4, 15, 14, 5, 5, 4, 6, 12, 15, 10, 16, 13, 17, 12, 11, 14, 17, 8, 15, 15, 6, 7, 15, 13, 13, 15, 15, 11, 12, 16, 12, 9, 18, 12, 3, 6, 12, 15, 16, 5, 7, 16, 2, 5, 8, 12, 12, 14, 5, 13, 7, 3, 7, 16, 11, 5, 12, 16, 18, 6, 11, 12, 10, 11, 6, 9, 3, 11, 17, 10, 15, 17, 18, 7, 6, 3, 14, 5, 12, 11, 12, 15, 17, 15, 10, 14, 12, 11, 5, 17, 15, 11, 4, 7, 7, 17, 4, 6, 15, 10, 13, 6, 10, 13, 17, 11, 18, 3, 2, 17, 2, 15, 8, 7, 13, 12, 7, 9, 8, 10, 6, 6, 14, 16, 12, 6, 10, 8, 14, 9, 12, 3, 3, 15, 5, 4, 5, 12, 18, 11, 8, 4, 8, 13, 5, 6, 13, 4, 5, 4, 5, 4, 10, 13, 7, 13, 9, 12, 8, 11, 8, 7, 5, 10, 16, 4, 9, 17, 3, 15, 7, 4, 14, 6, 6, 16, 10, 12, 12, 6, 17, 13, 10, 11, 16, 4, 9, 7, 17, 5, 16, 9, 4, 13, 16, 3, 12, 9, 12, 10, 15, 17, 14, 11, 12, 13, 15, 15, 12, 10, 6, 7, 14, 10, 11, 11, 17, 17, 8, 14, 9, 14, 15, 16, 10, 3, 11, 16, 11, 2, 5, 10, 16, 10, 15, 8, 17, 18, 9, 9, 13, 18, 4, 11, 6, 12, 6, 12, 2, 9, 5, 4, 7, 13, 6, 12, 13, 5, 10, 2, 16, 17, 17, 3, 10, 17, 15, 8, 14, 16, 7, 4, 14, 17, 18, 16, 7, 16, 2, 10, 9, 3, 14, 10, 15, 7, 9, 9, 3, 5, 2, 18, 6, 16, 17, 16, 6, 6, 10, 6, 8, 14, 4, 17, 10, 9, 17, 7, 17, 14, 18, 5, 13, 17, 11, 5, 15, 6, 7, 16, 6, 10, 13, 4, 14, 12, 9, 9, 8, 15, 8, 17, 5, 7, 6, 17, 12, 13, 11, 9, 15, 17, 4, 5, 16, 12, 9, 12, 6, 15, 16, 10, 8, 12, 14, 18, 9, 6, 8, 9, 10, 7, 15, 14, 7, 7, 14, 10, 5, 10, 11, 3, 8, 17, 2, 13, 14, 3, 16, 13, 6, 8, 4, 18, 12, 19, 2, 12, 10, 8, 13, 16, 14, 12, 10, 17, 13, 12, 5, 16, 15, 4, 13, 15, 14, 15, 10, 6, 4, 15, 7, 14, 16, 18, 3, 14, 6, 6, 8, 12, 17, 12, 14, 13, 15, 6, 5, 5, 13, 8, 10, 7, 5, 6, 14, 12, 9, 14, 13, 16, 4, 5, 13, 15, 8, 17, 9, 9, 9, 9, 4, 12, 5, 13, 14, 9, 8, 13, 15, 6, 17, 16, 3, 13, 9, 8, 10, 8, 5, 14, 17, 16, 4, 9, 11, 7, 17, 5, 8, 10, 13, 3, 7, 13, 14, 9, 10, 14, 12, 8, 12, 10, 7, 10, 4, 6, 11, 10, 11, 7, 18, 17, 18, 7, 5, 13, 7, 9, 13, 7, 14, 3, 3, 17, 6, 8, 9, 13, 18, 18, 9, 12, 10, 13, 11, 7, 7, 14, 13, 3, 11, 11, 17, 8, 16, 11, 15, 16, 12, 5, 17, 16, 5, 3, 17, 4, 13, 8, 6, 15, 13, 10, 12, 15, 5, 14, 9, 10, 9, 2, 9, 3, 11, 16, 4, 8, 4, 5, 11, 9, 6, 6, 10, 16, 18, 13, 18, 5, 5, 11, 19, 10, 3, 11, 18, 5, 3, 14, 2, 10, 9, 3, 12, 9, 12, 3, 9, 8, 4, 14, 4, 6, 13, 14, 6, 5, 14, 3, 9, 4, 9, 12, 4, 2, 3, 12, 12, 6, 16, 15, 4, 13, 11, 6, 11, 10, 6, 11, 17, 11, 15, 15, 15, 2, 5, 17, 5, 16, 12, 17, 18, 10, 8, 6, 17, 15, 16, 5, 12, 5, 6, 6, 13, 11, 7, 10, 11, 14, 5, 10, 4, 12, 14, 4, 5, 13, 7, 18, 5, 7, 12, 11, 2, 17, 11, 8, 3, 4, 15, 9, 10, 17, 11, 9, 11, 8, 5, 14, 13, 10, 6, 8, 15, 17, 12, 13, 13, 12, 10, 4, 7, 11, 13, 14, 3, 17, 17, 14, 18, 11, 8, 15, 10, 4, 2, 3, 11, 10, 9, 14, 5, 7, 5, 12, 12, 8, 14, 10, 10, 14, 13, 9, 11, 6, 7, 10, 12, 16, 15, 12, 5]\n"
     ]
    }
   ],
   "source": [
    "#Sampling a 1000 data samples\n",
    "\n",
    "sample = list()\n",
    "\n",
    "for i in range(1000):\n",
    "    sample.append(age_list[int(random())])\n",
    "print(sample)"
   ]
  },
  {
   "cell_type": "code",
   "execution_count": 32,
   "id": "b1ae0b3b-ea0b-4674-887f-ef1d40b90191",
   "metadata": {},
   "outputs": [
    {
     "name": "stdout",
     "output_type": "stream",
     "text": [
      "{2: 22, 3: 41, 4: 54, 5: 71, 6: 65, 7: 56, 8: 54, 9: 66, 10: 71, 11: 63, 12: 83, 13: 69, 14: 64, 15: 66, 16: 50, 17: 65, 18: 35, 19: 5}\n"
     ]
    }
   ],
   "source": [
    "#Finding the frquences of the sampled dataset\n",
    "\n",
    "sample_age_dict ={}\n",
    "for i in sample:\n",
    "    if i not in sample_age_dict.keys():\n",
    "        sample_age_dict[i] = 1\n",
    "    else:\n",
    "        sample_age_dict[i] = sample_age_dict[i] +1\n",
    "\n",
    "\n",
    "sorted_sample_age_dict = dict(sorted(sample_age_dict.items()))\n",
    "print(sorted_sample_age_dict)"
   ]
  },
  {
   "cell_type": "code",
   "execution_count": 33,
   "id": "7113a64d-c719-4801-b353-c3d0c2d7bd4c",
   "metadata": {},
   "outputs": [
    {
     "data": {
      "image/png": "[encoded data removed]",
      "text/plain": [
       "<Figure size 640x480 with 1 Axes>"
      ]
     },
     "metadata": {},
     "output_type": "display_data"
    }
   ],
   "source": [
    "import matplotlib.pyplot as plt\n",
    "plt.plot(sorted_sample_age_dict.keys(),sorted_sample_age_dict.values(), color='red')\n",
    "plt.xlabel('Age')\n",
    "plt.ylabel('Number of kids')\n",
    "plt.show()"
   ]
  },
  {
   "cell_type": "code",
   "execution_count": 35,
   "id": "1912425e-a22e-4e65-8c0b-46e57212f059",
   "metadata": {},
   "outputs": [
    {
     "name": "stdout",
     "output_type": "stream",
     "text": [
      "Mean: 10.358\n",
      "Standard deviation: 5.340538373389621\n"
     ]
    }
   ],
   "source": [
    "#Calculating the parameters: Mean and standard deviation\n",
    "import math\n",
    "sums =0\n",
    "for i,j in sorted_sample_age_dict.items():\n",
    "    sums = sums+(i*j)\n",
    "mean = sums/len(sample)\n",
    "print(\"Mean:\",mean)\n",
    "\n",
    "sd = 0\n",
    "\n",
    "for key in sorted_sample_age_dict.keys():\n",
    "    sd = sd + (key - mean)**2 \n",
    "\n",
    "sd = sd / (len(sorted_sample_age_dict)-1)\n",
    "print(\"Standard deviation:\",math.sqrt(sd))"
   ]
  },
  {
   "cell_type": "markdown",
   "id": "e176d951-d4fd-4c92-9848-0071c83d5687",
   "metadata": {},
   "source": [
    "1 c) \n",
    "Now Checking the parameter values before and after sampling:\n",
    "\n",
    "Before sampling(:\n",
    "Mean - 10.41995895330939\n",
    "Standard deviation - 5.658781301369251\n",
    "\n",
    "After sampling(1000 samples):\n",
    "Mean - 10.358\n",
    "Standard deviation -5.340538373389621\n",
    "\n",
    "The values are close and the graphs are similar.So, the samples really follow the distribution from 1 a."
   ]
  },
  {
   "cell_type": "code",
   "execution_count": 37,
   "id": "3796c71e-9322-428d-9ffa-63a91d0de847",
   "metadata": {},
   "outputs": [
    {
     "name": "stdout",
     "output_type": "stream",
     "text": [
      "Probablity of age 4 = 0.05849153412006157\n",
      "Probablity of age 3 = 0.04027706516162134\n",
      "Probablity of age 6 = 0.06285274499743458\n",
      "Probablity of age 5 = 0.06952283222165213\n",
      "Probablity of age 14 = 0.06952283222165213\n",
      "Probablity of age 13 = 0.08081067213955875\n",
      "Probablity of age 12 = 0.07362750128270908\n",
      "Probablity of age 10 = 0.06618778860954336\n",
      "Probablity of age 7 = 0.05926115956900975\n",
      "Probablity of age 9 = 0.0659312467932273\n",
      "Probablity of age 11 = 0.07234479220112879\n",
      "Probablity of age 8 = 0.05079527963057978\n",
      "Probablity of age 16 = 0.05079527963057978\n",
      "Probablity of age 17 = 0.056695741405849154\n",
      "Probablity of age 18 = 0.035659312467932275\n",
      "Probablity of age 19 = 0.0048742945100051305\n",
      "Probablity of age 15 = 0.06772703950743972\n",
      "Probablity of age 20 = 0.0002565418163160595\n",
      "Probablity of age 2 = 0.014366341713699333\n",
      "Probability is 4.664244339928473642307697605E+4699\n"
     ]
    }
   ],
   "source": [
    "\n",
    "# Trying out the mulinomial formula from scratch. (Not a part of the exercise!)\n",
    "\n",
    "import sys\n",
    "sys.set_int_max_str_digits(0)\n",
    "sys.setrecursionlimit(4000)\n",
    "count = len(age_list) # gives the total count of Age values.\n",
    "#print(count)\n",
    "def factorialnos(n):  #function to find factorial of a given number\n",
    "    if n == 0:\n",
    "        return 1\n",
    "    else:\n",
    "        return n * factorialnos(n-1)\n",
    "\n",
    "\n",
    "denominator =1\n",
    "for vals in age_dict.values():\n",
    "    result = factorialnos(vals)\n",
    "    denominator *=result\n",
    "\n",
    "prob = 1         #calculating the probabilities of each age\n",
    "for keys,vals in age_dict.items():\n",
    "    result = vals/count\n",
    "    print(\"Probablity of age\",keys,\"=\", result)\n",
    "    prob*= result\n",
    "\n",
    "numerator = factorialnos(count)\n",
    "res = (numerator//denominator)   # formula to find multinomial ----> ((n!/ x1!,x2!....xk!) * p1x1.p2x2.p3x3....pkxk) where x1+x2+...xk = n and p1x1+p2x2+p3x3....+pkxk = 1\n",
    "from decimal import Decimal\n",
    "multinomial = res*Decimal(prob) \n",
    "print(\"Probability is\",multinomial)"
   ]
  }
 ],
 "metadata": {
  "kernelspec": {
   "display_name": "Python 3 (ipykernel)",
   "language": "python",
   "name": "python3"
  },
  "language_info": {
   "codemirror_mode": {
    "name": "ipython",
    "version": 3
   },
   "file_extension": ".py",
   "mimetype": "text/x-python",
   "name": "python",
   "nbconvert_exporter": "python",
   "pygments_lexer": "ipython3",
   "version": "3.12.2"
  }
 },
 "nbformat": 4,
 "nbformat_minor": 5
}
